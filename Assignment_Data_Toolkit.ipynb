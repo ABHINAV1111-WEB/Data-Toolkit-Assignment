{
  "nbformat": 4,
  "nbformat_minor": 0,
  "metadata": {
    "colab": {
      "provenance": []
    },
    "kernelspec": {
      "name": "python3",
      "display_name": "Python 3"
    },
    "language_info": {
      "name": "python"
    }
  },
  "cells": [
    {
      "cell_type": "markdown",
      "source": [
        "\n",
        "**1. What is NumPy, and why is it widely used in Python?**\n",
        "\n",
        "**Ans:**\n",
        "  NumPy, short for Numerical Python, is a fundamental package for scientific computing in Python.NumPy (Numerical Python) is a powerful open-source library in Python used for numerical computing. It provides support for multi-dimensional arrays and matrices, along with a collection of mathematical functions to operate on these arrays efficiently."
      ],
      "metadata": {
        "id": "n4IuEg4RmClt"
      }
    },
    {
      "cell_type": "markdown",
      "source": [
        "**2. How does broadcasting work in NumPy ?**\n",
        "\n",
        "**Ans:**\n",
        " Broadcasting is a powerful feature in NumPy that allows you to perform arithmetic operations on arrays of different shapes without the need to manually resize or replicate the arrays. Broadcasting automatically expands the dimensions of one array to match the dimensions of another, enabling element-wise operations to be carried out efficiently."
      ],
      "metadata": {
        "id": "XXSsIyoLnRKE"
      }
    },
    {
      "cell_type": "markdown",
      "source": [
        "**3. What is a Pandas DataFrame ?**\n",
        "\n",
        "**Ans:**\n",
        " A Pandas DataFrame is a two-dimensional, size-mutable, and potentially heterogeneous tabular data structure with labeled axes (rows and columns). It is one of the most important and widely used data structures in the Pandas library, which is a powerful tool for data manipulation and analysis in Python."
      ],
      "metadata": {
        "id": "jrJsbLCFnpb3"
      }
    },
    {
      "cell_type": "markdown",
      "source": [
        "**4. Explain the use of the groupby() method in Pandas.**\n",
        "\n",
        "**Ans:**\n",
        "It is a tool that allows you to split your data into groups based on some criteria, perform operations on each of these groups independently, and then combine the results. This is particularly useful for aggregating data, computing summary statistics, and transforming data based on group characteristics."
      ],
      "metadata": {
        "id": "MzW9V5eroJBm"
      }
    },
    {
      "cell_type": "markdown",
      "source": [
        "**5. Why is Seaborn preferred for statistical visualizations ?**\n",
        "\n",
        "**Ans:**\n",
        " Seaborn is a Python data visualization library built on top of Matplotlib, designed to simplify the creation of informative and attractive statistical graphics. Its high-level interface and integration with Pandas data structures make it a preferred choice for many data scientists and analysts."
      ],
      "metadata": {
        "id": "B_-wbrhzoySc"
      }
    },
    {
      "cell_type": "markdown",
      "source": [
        "**6. What are the differences between NumPy arrays and Python lists ?**\n",
        "\n",
        "**Ans:**\n",
        " Python lists and NumPy arrays are both data structures used to store collections of elements, but they have distinct characteristics and serve different purposes.\n",
        " Python lists offer flexibility and are suitable for general-purpose tasks involving heterogeneous data. NumPy arrays, with their memory efficiency and computational speed, are tailored for numerical computations and are the preferred choice in scientific and data-intensive applications."
      ],
      "metadata": {
        "id": "QSkkCd4hpdkh"
      }
    },
    {
      "cell_type": "markdown",
      "source": [
        "**7. What is a heatmap, and when should it be used?**\n",
        "\n",
        "**Ans:**\n",
        " A heatmap is a graphical representation of data where individual values are represented by colors. It's like a colorful grid that shows patterns, relationships, and trends within data at a glance.\n",
        "When to Use a Heatmap:\n",
        "\n",
        "1. Discover Patterns: Use heatmaps to quickly identify patterns, trends, and correlations in your data.\n",
        "\n",
        "2. Highlight Variations: They are excellent for highlighting variations within a dataset, such as high and low values.\n",
        "\n",
        "3. Visualize Data Distribution: Ideal for visualizing the distribution and density of data points across different dimensions.\n",
        "\n",
        "4. Compare Categories: Useful for comparing data across different categories or groups.\n",
        "\n",
        "5. Spot Anomalies: Easy to spot outliers and anomalies in large datasets."
      ],
      "metadata": {
        "id": "KMn1NUV-qQLR"
      }
    },
    {
      "cell_type": "markdown",
      "source": [
        "**8. What does the term “vectorized operation” mean in NumPy ?**\n",
        "\n",
        "**Ans:**\n",
        " In NumPy, a “vectorized operation” refers to performing operations on entire arrays or large batches of data at once, rather than iterating through elements one by one. This approach leverages NumPy's highly optimized, low-level C implementations, resulting in significant performance improvements over standard Python loops."
      ],
      "metadata": {
        "id": "FMh_-eqgrVuX"
      }
    },
    {
      "cell_type": "markdown",
      "source": [
        "**9. How does Matplotlib differ from Plotly?**\n",
        "\n",
        "**Ans:**\n",
        " Matplotlib and Plotly are two popular data visualization libraries in Python. While both libraries are used for creating static and interactive plots, there are significant differences between them:\n",
        "\n",
        "**Matplotlib:**\n",
        "\n",
        "  Static plots: Matplotlib is ideal for creating high-quality 2D and 3D static plots.\n",
        "  Customization: Offers extensive customization options for plot elements, such as colors, fonts, labels, and more.\n",
        "  Integration: Easily integrates with other popular Python data science libraries like NumPy, Pandas, and Scikit-learn.\n",
        "  Community: Has a large and established community, ensuring extensive documentation and support resources.\n",
        "\n",
        "Plotly:\n",
        "\n",
        " Interactive plots: Plotly excels at creating interactive, web-based visualizations with hover-over text, zooming, and more.\n",
        " 3D plots: Offers robust support for creating complex, interactive 3D plots.\n",
        " Multiple platforms: Allows for seamless sharing and embedding of plots across various platforms, including Jupyter Notebooks, web applications, and presentations.\n",
        " User-friendly: Provides a user-friendly interface for creating plots, making it accessible to users without extensive programming knowledge.  "
      ],
      "metadata": {
        "id": "mBMPDoZrrlUK"
      }
    },
    {
      "cell_type": "markdown",
      "source": [
        "**10. What is the significance of hierarchical indexing in Pandas ?**\n",
        "\n",
        "**Ans:**\n",
        " Hierarchical indexing (also known as multi-indexing) in Pandas allows you to work with higher-dimensional data in a lower-dimensional DataFrame. It's a powerful feature that adds flexibility and structure to your data manipulation and analysis tasks.\n",
        "   It allows you to index and manipulate data using multiple levels of labels, making it easier to manage and analyze data with multiple dimensions."
      ],
      "metadata": {
        "id": "lAeh_3jCsr99"
      }
    },
    {
      "cell_type": "markdown",
      "source": [
        "**11. What is the role of Seaborn’s pairplot() function?**\n",
        "\n",
        "**Ans:**\n",
        " Seaborn's pairplot() function is a versatile and very useful tool for visualizing pairwise relationships in a dataset. It creates a grid of scatter plots for each pair of variables in the dataset, along with histograms or kernel density plots on the diagonal. This function is particularly useful for exploring the relationships between multiple variables and understanding the distribution of data."
      ],
      "metadata": {
        "id": "f7H2SOYMteMT"
      }
    },
    {
      "cell_type": "markdown",
      "source": [
        "**12. What is the purpose of the describe() function in Pandas ?**\n",
        "\n",
        "**Ans:**\n",
        " The describe() function in Pandas is used to generate descriptive statistics for numeric columns in a DataFrame or Series. It provides a concise summary of the central tendency, dispersion, and shape of the data.\n",
        " It provides a quick overview of the central tendency, dispersion, and shape of your dataset's distribution, giving you a sense of your data's overall characteristics."
      ],
      "metadata": {
        "id": "_6Os4t_4t80p"
      }
    },
    {
      "cell_type": "markdown",
      "source": [
        "**13. Why is handling missing data important in Pandas ?**\n",
        "\n",
        "**Ans:**\n",
        " Handling missing data is crucial in data analysis for several reasons. Ignoring or improperly dealing with missing data can lead to inaccurate results, misinterpretations, and flawed conclusions. Here’s why managing missing data in Pandas is essential:\n",
        "\n",
        "**Reasons why handling missing data is important:**\n",
        "\n",
        "1. Biased results: Missing data can lead to biased results, especially if the missing values are not missing at random (NMAR). This can result in incorrect conclusions and poor decision-making.\n",
        "\n",
        "2. Data quality issues: Missing data can indicate data quality issues, such as data entry errors, measurement errors, or data loss during collection or transfer.\n",
        "\n",
        "3. Impact on statistical analysis: Missing data can affect statistical analysis, such as regression, correlation, and hypothesis testing. Ignoring missing data can lead to incorrect p-values, confidence intervals, and regression coefficients.\n",
        "\n",
        "4. Machine learning model performance: Missing data can impact the performance of machine learning models, especially if the missing values are not handled properly."
      ],
      "metadata": {
        "id": "ucA68VGXufzw"
      }
    },
    {
      "cell_type": "markdown",
      "source": [
        "**14. What are the benefits of using Plotly for data visualization ?**\n",
        "\n",
        "**Ans:**\n",
        " Plotly's interactivity, web-based capabilities, and extensive customization options make it a powerful tool for creating engaging and informative visualizations.\n",
        "\n",
        "**Key benefits of using Plotly for data visualization:**\n",
        "\n",
        " Interactive Visualizations – Unlike static plots, Plotly allows users to zoom, pan, hover, and toggle elements for better data exploration.\n",
        "\n",
        "Wide Range of Chart Types – Supports numerous chart types, including line charts, bar charts, scatter plots, heatmaps, box plots, 3D plots, and more.\n",
        "\n",
        "Ease of Use – Provides a user-friendly API, especially in Python, making it easy to create visualizations with minimal code.\n",
        "\n",
        "Seamless Integration – Works well with popular libraries like Pandas, NumPy, and Dash, allowing smooth data visualization in Python environments.\n",
        "\n",
        "Web-Based and Embeddable – Generates HTML-based visualizations that can be easily embedded in web applications, Jupyter Notebooks, and dashboards.\n",
        "\n",
        "Customization and Styling – Offers extensive customization options for colors, labels, axes, and annotations to enhance the appearance of visualizations.\n",
        "\n",
        "Support for Large Datasets – Optimized for handling large datasets efficiently, especially when using WebGL for rendering.\n",
        "\n",
        "Cross-Language Support – Available in multiple programming languages, including Python, R, and JavaScript.\n",
        "\n",
        "Export Options – Allows exporting visualizations as static images (PNG, JPEG, PDF) or interactive web formats.\n",
        "\n",
        "Open-Source & Enterprise Versions – The core library is open-source, while Plotly also offers enterprise solutions with additional features for business applications."
      ],
      "metadata": {
        "id": "V_FefGnDxhBi"
      }
    },
    {
      "cell_type": "markdown",
      "source": [
        "**15.  How does NumPy handle multidimensional arrays ?**\n",
        "\n",
        "**Ans:**\n",
        " Handling of multidimensional array by Numpy:\n",
        "\n",
        " Creation: Use functions like np.array(), np.zeros(), np.ones(), etc., to create multidimensional arrays.\n",
        "\n",
        "Shape and Dimensions: Access the shape and dimensions using shape and ndim attributes.\n",
        "\n",
        "Element Access: Access elements and subarrays using indices and slicing.\n",
        "\n",
        "Operations: Perform arithmetic operations, aggregations, reshaping, and more.\n",
        "\n",
        "Broadcasting: Perform operations on arrays of different shapes efficiently."
      ],
      "metadata": {
        "id": "Q9b8VAQRy2fC"
      }
    },
    {
      "cell_type": "markdown",
      "source": [
        "**16. What is the role of Bokeh in data visualization ?**\n",
        "\n",
        "**Ans:**\n",
        " Bokeh is another popular Python library for data visualization that targets web browsers for presentation. Its primary goal is to provide elegant, concise construction of versatile graphics in the style of D3.js, but also deliver this capability with high-level APIs for Python users.\n",
        "  Whether you're exploring data, creating dashboards, or developing web applications, Bokeh provides the features and flexibility needed to bring your data to life."
      ],
      "metadata": {
        "id": "g8HcgsnAzZEt"
      }
    },
    {
      "cell_type": "markdown",
      "source": [
        "**17. Explain the difference between apply() and map() in Pandas ?**\n",
        "\n",
        "**Ans:**\n",
        "\n",
        "Differences between apply() and map():\n",
        "\n",
        "1. Function Application\n",
        "apply(): Applies a function along the axis of the DataFrame or Series. It can be used with both simple and complex functions.\n",
        "\n",
        "map(): Applies a function element-wise to the Series or DataFrame. It is mainly used with simple functions, such as replacing values or performing basic arithmetic operations.\n",
        "\n",
        "2. Performance\n",
        "apply(): Generally slower than map() because it requires more overhead in terms of function calls and data alignment.\n",
        "\n",
        "map(): Faster than apply() for simple operations because it uses a more efficient, vectorized approach.\n",
        "\n",
        "3. Output\n",
        "apply(): Can return a Series, DataFrame, or scalar value, depending on the function applied.\n",
        "\n",
        "map(): Always returns a Series with the same index as the original Series.\n",
        "\n",
        "4. Error Handling\n",
        "apply(): If the applied function encounters an error, apply() will raise an exception.\n",
        "map(): If the mapped function encounters an error, map() will propagate the NaN (Not a Number) value."
      ],
      "metadata": {
        "id": "gdWgEYBK0ADI"
      }
    },
    {
      "cell_type": "markdown",
      "source": [
        "**18.  What are some advanced features of NumPy ?**\n",
        "\n",
        "**Ans:**\n",
        "  NumPy (Numerical Python) is a library for working with arrays and mathematical operations in Python.\n",
        "\n",
        " ** Here are some advanced features of NumPy:**\n",
        "\n",
        "1. Broadcasting: NumPy's broadcasting feature allows you to perform operations on arrays with different shapes and sizes.\n",
        "\n",
        "2. Advanced Indexing: NumPy provides advanced indexing techniques, such as boolean indexing, fancy indexing, and indexing with arrays.\n",
        "\n",
        "3. Linear Algebra Operations: NumPy provides functions for performing linear algebra operations, such as matrix multiplication, eigenvalue decomposition, and singular value decomposition.\n",
        "\n",
        "4. Random Number Generation: NumPy provides functions for generating random numbers, including uniform, normal, and binomial distributions.\n",
        "\n",
        "5. Polynomial Operations: NumPy provides functions for performing polynomial operations, such as polynomial multiplication, division, and root finding.\n",
        "\n",
        "6. Fourier Transform: NumPy provides functions for performing Fourier transforms, including fast Fourier transforms (FFTs) and discrete Fourier transforms (DFTs).\n",
        "\n",
        "7. Array Manipulation: NumPy provides functions for manipulating arrays, such as reshaping, transposing, and flipping arrays."
      ],
      "metadata": {
        "id": "cjrBvF3T1i-1"
      }
    },
    {
      "cell_type": "markdown",
      "source": [
        "**19. How does Pandas simplify time series analysis ?**\n",
        "**Ans:**\n",
        " ** Simplifying of time series analysis by Pandas:**\n",
        "\n",
        "  Datetime Indexing: You can use pd.to_datetime() to convert strings to datetime objects and set them as an index.\n",
        "Resampling: With .resample(), you can aggregate data to different time intervals (e.g., daily to monthly).\n",
        "Shifting and Lagging: Functions like .shift() help create lag features useful in forecasting.\n",
        "Rolling and Expanding Windows: Moving averages and other rolling statistics can be computed using .rolling() and .expanding().\n",
        "Time Zone Handling: Pandas supports time zone conversion with .tz_localize() and .tz_convert().\n",
        "Missing Data Handling: It provides easy ways to interpolate and fill missing values in time series."
      ],
      "metadata": {
        "id": "E5zEJzOT2h8L"
      }
    },
    {
      "cell_type": "markdown",
      "source": [
        "**20. What is the role of a pivot table in Pandas ?**\n",
        "\n",
        "**Ans:**\n",
        "  In Pandas, a pivot table is used to summarize, aggregate, and reshape data in a DataFrame. It allows you to transform data by organizing and summarizing it based on categorical variables. Pivot tables are especially useful for analyzing large datasets in a structured format."
      ],
      "metadata": {
        "id": "NX7xvUCt3eHa"
      }
    },
    {
      "cell_type": "markdown",
      "source": [
        "**21. Why is NumPy’s array slicing faster than Python’s list slicing ?**\n",
        "\n",
        "**Ans:**\n",
        "  NumPy’s array slicing is faster than Python’s list slicing primarily due to the following reasons:\n",
        "\n",
        "Memory Efficiency & Contiguity:\n",
        "\n",
        "NumPy arrays are stored in contiguous memory blocks, making them more cache-friendly.\n",
        "Python lists store references to objects rather than storing the objects themselves, leading to additional memory overhead.\n",
        "Views vs. Copies:\n",
        "\n",
        "NumPy slicing creates views, meaning it does not copy data but instead references the original array. This makes slicing operations nearly instantaneous.\n",
        "Python list slicing creates a new list, copying data into it, which takes additional time and memory.\n",
        "Optimized C Implementations:\n",
        "\n",
        "NumPy is implemented in C and optimized for performance, leveraging low-level memory operations and efficient looping.\n",
        "Python lists rely on high-level Python operations, which have additional overhead.\n",
        "Fixed Data Types:\n",
        "\n",
        "NumPy arrays store elements of a single data type, allowing efficient vectorized operations.\n",
        "Python lists can store mixed data types, requiring extra processing to handle different objects."
      ],
      "metadata": {
        "id": "kxhQz1ZN3zow"
      }
    },
    {
      "cell_type": "markdown",
      "source": [
        "**22. What are some common use cases for Seaborn ?**\n",
        "\n",
        "**Ans:**\n",
        "  Seaborn is a Python visualization library built on top of Matplotlib, designed for creating attractive and informative statistical graphics. Some common use cases for Seaborn include:\n",
        "\n",
        "Exploratory Data Analysis (EDA) – Quickly visualizing datasets to identify patterns, trends, and relationships.\n",
        "\n",
        "Statistical Data Visualization – Creating visualizations that help understand distributions, correlations, and comparisons.\n",
        "\n",
        "Distribution Plots – Using histplot, kdeplot, and boxplot to analyze data distributions.\n",
        "\n",
        "Categorical Data Visualization – Using barplot, violinplot, swarmplot, and stripplot to compare categorical data.\n",
        "\n",
        "Correlation and Heatmaps – Using heatmap to visualize correlations and relationships between numerical variables.\n",
        "\n",
        "Time Series Analysis – Plotting trends over time with lineplot.\n",
        "\n",
        "Pairwise Relationships – Using pairplot and jointplot to examine relationships between multiple variables.\n",
        "\n",
        "Regression Analysis – Using regplot and lmplot to visualize regression models.\n",
        "\n",
        "Customizing Matplotlib Plots – Enhancing Matplotlib plots with Seaborn's style themes (darkgrid, whitegrid, etc.).\n",
        "\n",
        "Facet Grids for Subplots – Using FacetGrid and catplot to create multi-panel visualizations based on categorical variables."
      ],
      "metadata": {
        "id": "iUQ9JsBs4ZRY"
      }
    },
    {
      "cell_type": "markdown",
      "source": [
        "**PRACTICAL**"
      ],
      "metadata": {
        "id": "SXBM_vtG53CJ"
      }
    },
    {
      "cell_type": "markdown",
      "source": [
        "**1. How do you create a 2D NumPy array and calculate the sum of each row ?**\n",
        "\n",
        "**Ans:**"
      ],
      "metadata": {
        "id": "CO2W08m46K8N"
      }
    },
    {
      "cell_type": "code",
      "source": [
        "import numpy as np\n",
        "\n",
        "# Create a 2D NumPy array\n",
        "array_2d = np.array([[1, 2, 3],\n",
        "                      [4, 5, 6],\n",
        "                      [7, 8, 9]])\n",
        "\n",
        "row_sums = np.sum(array_2d, axis=1)\n",
        "\n",
        "print(\"2D Array:\")\n",
        "print(array_2d)\n",
        "print(\"Sum of each row:\", row_sums)\n"
      ],
      "metadata": {
        "colab": {
          "base_uri": "https://localhost:8080/"
        },
        "id": "S_3qM9-f6p6E",
        "outputId": "64fb3ced-5847-4e1a-b0b0-2949fee2dd41"
      },
      "execution_count": 1,
      "outputs": [
        {
          "output_type": "stream",
          "name": "stdout",
          "text": [
            "2D Array:\n",
            "[[1 2 3]\n",
            " [4 5 6]\n",
            " [7 8 9]]\n",
            "Sum of each row: [ 6 15 24]\n"
          ]
        }
      ]
    },
    {
      "cell_type": "markdown",
      "source": [
        "**2. Write a Pandas script to find the mean of a specific column in a DataFrame .**"
      ],
      "metadata": {
        "id": "AQCrbnPU63qj"
      }
    },
    {
      "cell_type": "code",
      "source": [
        "import pandas as pd\n",
        "\n",
        "data = {\n",
        "    'column_name': [10, 20, 30, 40, 50],\n",
        "    'another_column': [5, 15, 25, 35, 45] }\n",
        "\n",
        "df = pd.DataFrame(data)\n",
        "mean_value = df['column_name'].mean()\n",
        "\n",
        "print(f\"The mean of the column 'column_name' is: {mean_value}\")\n"
      ],
      "metadata": {
        "colab": {
          "base_uri": "https://localhost:8080/"
        },
        "id": "J0xtCFfE7U5f",
        "outputId": "75088453-714e-4744-b3ec-49f24acafa38"
      },
      "execution_count": 3,
      "outputs": [
        {
          "output_type": "stream",
          "name": "stdout",
          "text": [
            "The mean of the column 'column_name' is: 30.0\n"
          ]
        }
      ]
    },
    {
      "cell_type": "markdown",
      "source": [
        "**3. Create a scatter plot using Matplotlib.**\n",
        "\n",
        "Ans:"
      ],
      "metadata": {
        "id": "NaGfdry-7int"
      }
    },
    {
      "cell_type": "code",
      "source": [
        "import matplotlib.pyplot as plt\n",
        "\n",
        "x = [11, 22, 33, 44, 55]\n",
        "y = [20, 30, 15, 17, 16]\n",
        "\n",
        "plt.scatter(x, y, color='blue', marker='o')\n",
        "\n",
        "plt.title('Sample Scatter Plot')\n",
        "plt.xlabel('X-axis')\n",
        "plt.ylabel('Y-axis')\n",
        "\n",
        "plt.show()\n"
      ],
      "metadata": {
        "colab": {
          "base_uri": "https://localhost:8080/",
          "height": 472
        },
        "id": "Q9QuQtx77tF1",
        "outputId": "6d07262e-79bc-4821-cb3d-cb8da2daec20"
      },
      "execution_count": 5,
      "outputs": [
        {
          "output_type": "display_data",
          "data": {
            "text/plain": [
              "<Figure size 640x480 with 1 Axes>"
            ],
            "image/png": "[encoded data removed]"
          },
          "metadata": {}
        }
      ]
    },
    {
      "cell_type": "markdown",
      "source": [
        "**4. How do you calculate the correlation matrix using Seaborn and visualize it with a heatmap ?**\n",
        "\n",
        "**Ans:**"
      ],
      "metadata": {
        "id": "wGV5rioA8FhA"
      }
    },
    {
      "cell_type": "code",
      "source": [
        "import pandas as pd\n",
        "import seaborn as sns\n",
        "import matplotlib.pyplot as plt\n",
        "\n",
        "data = {\n",
        "    'A': [8, 3, 1, 4, 7],\n",
        "    'B': [9, 8, 7, 3, 1],\n",
        "    'C': [10, 11, 10, 9, 8],\n",
        "    'D': [9, 9, 8, 7, 7]\n",
        "}\n",
        "\n",
        "\n",
        "df = pd.DataFrame(data)\n",
        "\n",
        "correlation_matrix = df.corr()\n",
        "\n",
        "sns.set(style=\"white\")\n",
        "plt.figure(figsize=(8, 6))\n",
        "heatmap = sns.heatmap(correlation_matrix, annot=True, cmap='coolwarm', linewidths=0.5)\n",
        "\n",
        "# Add title and labels\n",
        "plt.title('Correlation Matrix Heatmap')\n",
        "plt.show()\n"
      ],
      "metadata": {
        "colab": {
          "base_uri": "https://localhost:8080/",
          "height": 549
        },
        "id": "4MtvdOzN8Xfc",
        "outputId": "c52d93da-f0b6-4654-ae21-f1e60adb43e2"
      },
      "execution_count": 7,
      "outputs": [
        {
          "output_type": "display_data",
          "data": {
            "text/plain": [
              "<Figure size 800x600 with 2 Axes>"
            ],
            "image/png": "[encoded data removed]"
          },
          "metadata": {}
        }
      ]
    },
    {
      "cell_type": "markdown",
      "source": [
        "**5. Generate a bar plot using Plotly .**\n",
        "\n",
        "**Ans:**\n"
      ],
      "metadata": {
        "id": "igkcONUm8w1H"
      }
    },
    {
      "cell_type": "code",
      "source": [
        "import plotly.graph_objects as go\n",
        "\n",
        "categories = ['Z', 'P', 'Q', 'A']\n",
        "values = [10, 15, 7, 20]\n",
        "\n",
        "# Create a bar plot\n",
        "fig = go.Figure(data=[go.Bar(x=categories, y=values)])\n",
        "\n",
        "# Add title and labels\n",
        "fig.update_layout(\n",
        "    title='Sample Bar Plot',\n",
        "    xaxis_title='Category',\n",
        "    yaxis_title='Value'\n",
        ")\n",
        "\n",
        "fig.show()\n"
      ],
      "metadata": {
        "colab": {
          "base_uri": "https://localhost:8080/",
          "height": 542
        },
        "id": "epJBOAax888v",
        "outputId": "3c621c19-abcd-41a3-a8a6-ea76a58a11ef"
      },
      "execution_count": 8,
      "outputs": [
        {
          "output_type": "display_data",
          "data": {
            "text/html": [
              "<html>\n",
              "<head><meta charset=\"utf-8\" /></head>\n",
              "<body>\n",
              "    <div>            <script src=\"https://cdnjs.cloudflare.com/ajax/libs/mathjax/2.7.5/MathJax.js?config=TeX-AMS-MML_SVG\"></script><script type=\"text/javascript\">if (window.MathJax && window.MathJax.Hub && window.MathJax.Hub.Config) {window.MathJax.Hub.Config({SVG: {font: \"STIX-Web\"}});}</script>                <script type=\"text/javascript\">window.PlotlyConfig = {MathJaxConfig: 'local'};</script>\n",
              "        <script charset=\"utf-8\" src=\"https://cdn.plot.ly/plotly-2.35.2.min.js\"></script>                <div id=\"c2e49461-0bc4-4cc6-b138-610726188136\" class=\"plotly-graph-div\" style=\"height:525px; width:100%;\"></div>            <script type=\"text/javascript\">                                    window.PLOTLYENV=window.PLOTLYENV || {};                                    if (document.getElementById(\"c2e49461-0bc4-4cc6-b138-610726188136\")) {                    Plotly.newPlot(                        \"c2e49461-0bc4-4cc6-b138-610726188136\",                        [{\"x\":[\"Z\",\"P\",\"Q\",\"A\"],\"y\":[10,15,7,20],\"type\":\"bar\"}],                        {\"template\":{\"data\":{\"histogram2dcontour\":[{\"type\":\"histogram2dcontour\",\"colorbar\":{\"outlinewidth\":0,\"ticks\":\"\"},\"colorscale\":[[0.0,\"#0d0887\"],[0.1111111111111111,\"#46039f\"],[0.2222222222222222,\"#7201a8\"],[0.3333333333333333,\"#9c179e\"],[0.4444444444444444,\"#bd3786\"],[0.5555555555555556,\"#d8576b\"],[0.6666666666666666,\"#ed7953\"],[0.7777777777777778,\"#fb9f3a\"],[0.8888888888888888,\"#fdca26\"],[1.0,\"#f0f921\"]]}],\"choropleth\":[{\"type\":\"choropleth\",\"colorbar\":{\"outlinewidth\":0,\"ticks\":\"\"}}],\"histogram2d\":[{\"type\":\"histogram2d\",\"colorbar\":{\"outlinewidth\":0,\"ticks\":\"\"},\"colorscale\":[[0.0,\"#0d0887\"],[0.1111111111111111,\"#46039f\"],[0.2222222222222222,\"#7201a8\"],[0.3333333333333333,\"#9c179e\"],[0.4444444444444444,\"#bd3786\"],[0.5555555555555556,\"#d8576b\"],[0.6666666666666666,\"#ed7953\"],[0.7777777777777778,\"#fb9f3a\"],[0.8888888888888888,\"#fdca26\"],[1.0,\"#f0f921\"]]}],\"heatmap\":[{\"type\":\"heatmap\",\"colorbar\":{\"outlinewidth\":0,\"ticks\":\"\"},\"colorscale\":[[0.0,\"#0d0887\"],[0.1111111111111111,\"#46039f\"],[0.2222222222222222,\"#7201a8\"],[0.3333333333333333,\"#9c179e\"],[0.4444444444444444,\"#bd3786\"],[0.5555555555555556,\"#d8576b\"],[0.6666666666666666,\"#ed7953\"],[0.7777777777777778,\"#fb9f3a\"],[0.8888888888888888,\"#fdca26\"],[1.0,\"#f0f921\"]]}],\"heatmapgl\":[{\"type\":\"heatmapgl\",\"colorbar\":{\"outlinewidth\":0,\"ticks\":\"\"},\"colorscale\":[[0.0,\"#0d0887\"],[0.1111111111111111,\"#46039f\"],[0.2222222222222222,\"#7201a8\"],[0.3333333333333333,\"#9c179e\"],[0.4444444444444444,\"#bd3786\"],[0.5555555555555556,\"#d8576b\"],[0.6666666666666666,\"#ed7953\"],[0.7777777777777778,\"#fb9f3a\"],[0.8888888888888888,\"#fdca26\"],[1.0,\"#f0f921\"]]}],\"contourcarpet\":[{\"type\":\"contourcarpet\",\"colorbar\":{\"outlinewidth\":0,\"ticks\":\"\"}}],\"contour\":[{\"type\":\"contour\",\"colorbar\":{\"outlinewidth\":0,\"ticks\":\"\"},\"colorscale\":[[0.0,\"#0d0887\"],[0.1111111111111111,\"#46039f\"],[0.2222222222222222,\"#7201a8\"],[0.3333333333333333,\"#9c179e\"],[0.4444444444444444,\"#bd3786\"],[0.5555555555555556,\"#d8576b\"],[0.6666666666666666,\"#ed7953\"],[0.7777777777777778,\"#fb9f3a\"],[0.8888888888888888,\"#fdca26\"],[1.0,\"#f0f921\"]]}],\"surface\":[{\"type\":\"surface\",\"colorbar\":{\"outlinewidth\":0,\"ticks\":\"\"},\"colorscale\":[[0.0,\"#0d0887\"],[0.1111111111111111,\"#46039f\"],[0.2222222222222222,\"#7201a8\"],[0.3333333333333333,\"#9c179e\"],[0.4444444444444444,\"#bd3786\"],[0.5555555555555556,\"#d8576b\"],[0.6666666666666666,\"#ed7953\"],[0.7777777777777778,\"#fb9f3a\"],[0.8888888888888888,\"#fdca26\"],[1.0,\"#f0f921\"]]}],\"mesh3d\":[{\"type\":\"mesh3d\",\"colorbar\":{\"outlinewidth\":0,\"ticks\":\"\"}}],\"scatter\":[{\"fillpattern\":{\"fillmode\":\"overlay\",\"size\":10,\"solidity\":0.2},\"type\":\"scatter\"}],\"parcoords\":[{\"type\":\"parcoords\",\"line\":{\"colorbar\":{\"outlinewidth\":0,\"ticks\":\"\"}}}],\"scatterpolargl\":[{\"type\":\"scatterpolargl\",\"marker\":{\"colorbar\":{\"outlinewidth\":0,\"ticks\":\"\"}}}],\"bar\":[{\"error_x\":{\"color\":\"#2a3f5f\"},\"error_y\":{\"color\":\"#2a3f5f\"},\"marker\":{\"line\":{\"color\":\"#E5ECF6\",\"width\":0.5},\"pattern\":{\"fillmode\":\"overlay\",\"size\":10,\"solidity\":0.2}},\"type\":\"bar\"}],\"scattergeo\":[{\"type\":\"scattergeo\",\"marker\":{\"colorbar\":{\"outlinewidth\":0,\"ticks\":\"\"}}}],\"scatterpolar\":[{\"type\":\"scatterpolar\",\"marker\":{\"colorbar\":{\"outlinewidth\":0,\"ticks\":\"\"}}}],\"histogram\":[{\"marker\":{\"pattern\":{\"fillmode\":\"overlay\",\"size\":10,\"solidity\":0.2}},\"type\":\"histogram\"}],\"scattergl\":[{\"type\":\"scattergl\",\"marker\":{\"colorbar\":{\"outlinewidth\":0,\"ticks\":\"\"}}}],\"scatter3d\":[{\"type\":\"scatter3d\",\"line\":{\"colorbar\":{\"outlinewidth\":0,\"ticks\":\"\"}},\"marker\":{\"colorbar\":{\"outlinewidth\":0,\"ticks\":\"\"}}}],\"scattermapbox\":[{\"type\":\"scattermapbox\",\"marker\":{\"colorbar\":{\"outlinewidth\":0,\"ticks\":\"\"}}}],\"scatterternary\":[{\"type\":\"scatterternary\",\"marker\":{\"colorbar\":{\"outlinewidth\":0,\"ticks\":\"\"}}}],\"scattercarpet\":[{\"type\":\"scattercarpet\",\"marker\":{\"colorbar\":{\"outlinewidth\":0,\"ticks\":\"\"}}}],\"carpet\":[{\"aaxis\":{\"endlinecolor\":\"#2a3f5f\",\"gridcolor\":\"white\",\"linecolor\":\"white\",\"minorgridcolor\":\"white\",\"startlinecolor\":\"#2a3f5f\"},\"baxis\":{\"endlinecolor\":\"#2a3f5f\",\"gridcolor\":\"white\",\"linecolor\":\"white\",\"minorgridcolor\":\"white\",\"startlinecolor\":\"#2a3f5f\"},\"type\":\"carpet\"}],\"table\":[{\"cells\":{\"fill\":{\"color\":\"#EBF0F8\"},\"line\":{\"color\":\"white\"}},\"header\":{\"fill\":{\"color\":\"#C8D4E3\"},\"line\":{\"color\":\"white\"}},\"type\":\"table\"}],\"barpolar\":[{\"marker\":{\"line\":{\"color\":\"#E5ECF6\",\"width\":0.5},\"pattern\":{\"fillmode\":\"overlay\",\"size\":10,\"solidity\":0.2}},\"type\":\"barpolar\"}],\"pie\":[{\"automargin\":true,\"type\":\"pie\"}]},\"layout\":{\"autotypenumbers\":\"strict\",\"colorway\":[\"#636efa\",\"#EF553B\",\"#00cc96\",\"#ab63fa\",\"#FFA15A\",\"#19d3f3\",\"#FF6692\",\"#B6E880\",\"#FF97FF\",\"#FECB52\"],\"font\":{\"color\":\"#2a3f5f\"},\"hovermode\":\"closest\",\"hoverlabel\":{\"align\":\"left\"},\"paper_bgcolor\":\"white\",\"plot_bgcolor\":\"#E5ECF6\",\"polar\":{\"bgcolor\":\"#E5ECF6\",\"angularaxis\":{\"gridcolor\":\"white\",\"linecolor\":\"white\",\"ticks\":\"\"},\"radialaxis\":{\"gridcolor\":\"white\",\"linecolor\":\"white\",\"ticks\":\"\"}},\"ternary\":{\"bgcolor\":\"#E5ECF6\",\"aaxis\":{\"gridcolor\":\"white\",\"linecolor\":\"white\",\"ticks\":\"\"},\"baxis\":{\"gridcolor\":\"white\",\"linecolor\":\"white\",\"ticks\":\"\"},\"caxis\":{\"gridcolor\":\"white\",\"linecolor\":\"white\",\"ticks\":\"\"}},\"coloraxis\":{\"colorbar\":{\"outlinewidth\":0,\"ticks\":\"\"}},\"colorscale\":{\"sequential\":[[0.0,\"#0d0887\"],[0.1111111111111111,\"#46039f\"],[0.2222222222222222,\"#7201a8\"],[0.3333333333333333,\"#9c179e\"],[0.4444444444444444,\"#bd3786\"],[0.5555555555555556,\"#d8576b\"],[0.6666666666666666,\"#ed7953\"],[0.7777777777777778,\"#fb9f3a\"],[0.8888888888888888,\"#fdca26\"],[1.0,\"#f0f921\"]],\"sequentialminus\":[[0.0,\"#0d0887\"],[0.1111111111111111,\"#46039f\"],[0.2222222222222222,\"#7201a8\"],[0.3333333333333333,\"#9c179e\"],[0.4444444444444444,\"#bd3786\"],[0.5555555555555556,\"#d8576b\"],[0.6666666666666666,\"#ed7953\"],[0.7777777777777778,\"#fb9f3a\"],[0.8888888888888888,\"#fdca26\"],[1.0,\"#f0f921\"]],\"diverging\":[[0,\"#8e0152\"],[0.1,\"#c51b7d\"],[0.2,\"#de77ae\"],[0.3,\"#f1b6da\"],[0.4,\"#fde0ef\"],[0.5,\"#f7f7f7\"],[0.6,\"#e6f5d0\"],[0.7,\"#b8e186\"],[0.8,\"#7fbc41\"],[0.9,\"#4d9221\"],[1,\"#276419\"]]},\"xaxis\":{\"gridcolor\":\"white\",\"linecolor\":\"white\",\"ticks\":\"\",\"title\":{\"standoff\":15},\"zerolinecolor\":\"white\",\"automargin\":true,\"zerolinewidth\":2},\"yaxis\":{\"gridcolor\":\"white\",\"linecolor\":\"white\",\"ticks\":\"\",\"title\":{\"standoff\":15},\"zerolinecolor\":\"white\",\"automargin\":true,\"zerolinewidth\":2},\"scene\":{\"xaxis\":{\"backgroundcolor\":\"#E5ECF6\",\"gridcolor\":\"white\",\"linecolor\":\"white\",\"showbackground\":true,\"ticks\":\"\",\"zerolinecolor\":\"white\",\"gridwidth\":2},\"yaxis\":{\"backgroundcolor\":\"#E5ECF6\",\"gridcolor\":\"white\",\"linecolor\":\"white\",\"showbackground\":true,\"ticks\":\"\",\"zerolinecolor\":\"white\",\"gridwidth\":2},\"zaxis\":{\"backgroundcolor\":\"#E5ECF6\",\"gridcolor\":\"white\",\"linecolor\":\"white\",\"showbackground\":true,\"ticks\":\"\",\"zerolinecolor\":\"white\",\"gridwidth\":2}},\"shapedefaults\":{\"line\":{\"color\":\"#2a3f5f\"}},\"annotationdefaults\":{\"arrowcolor\":\"#2a3f5f\",\"arrowhead\":0,\"arrowwidth\":1},\"geo\":{\"bgcolor\":\"white\",\"landcolor\":\"#E5ECF6\",\"subunitcolor\":\"white\",\"showland\":true,\"showlakes\":true,\"lakecolor\":\"white\"},\"title\":{\"x\":0.05},\"mapbox\":{\"style\":\"light\"}}},\"title\":{\"text\":\"Sample Bar Plot\"},\"xaxis\":{\"title\":{\"text\":\"Category\"}},\"yaxis\":{\"title\":{\"text\":\"Value\"}}},                        {\"responsive\": true}                    ).then(function(){\n",
              "                            \n",
              "var gd = document.getElementById('c2e49461-0bc4-4cc6-b138-610726188136');\n",
              "var x = new MutationObserver(function (mutations, observer) {{\n",
              "        var display = window.getComputedStyle(gd).display;\n",
              "        if (!display || display === 'none') {{\n",
              "            console.log([gd, 'removed!']);\n",
              "            Plotly.purge(gd);\n",
              "            observer.disconnect();\n",
              "        }}\n",
              "}});\n",
              "\n",
              "// Listen for the removal of the full notebook cells\n",
              "var notebookContainer = gd.closest('#notebook-container');\n",
              "if (notebookContainer) {{\n",
              "    x.observe(notebookContainer, {childList: true});\n",
              "}}\n",
              "\n",
              "// Listen for the clearing of the current output cell\n",
              "var outputEl = gd.closest('.output');\n",
              "if (outputEl) {{\n",
              "    x.observe(outputEl, {childList: true});\n",
              "}}\n",
              "\n",
              "                        })                };                            </script>        </div>\n",
              "</body>\n",
              "</html>"
            ]
          },
          "metadata": {}
        }
      ]
    },
    {
      "cell_type": "markdown",
      "source": [
        "**6. Create a DataFrame and add a new column based on an existing column**.\n",
        "\n",
        "**Ans:**"
      ],
      "metadata": {
        "id": "Fxf0UHS39JsA"
      }
    },
    {
      "cell_type": "code",
      "source": [
        "import pandas as pd\n",
        "\n",
        "data = {\n",
        "    'Name': ['Bijay', 'Pankaj', 'Pawan', 'Navin'],\n",
        "    'Age': [25, 30, 35, 40]\n",
        "}\n",
        "\n",
        "# Create a DataFrame\n",
        "df = pd.DataFrame(data)\n",
        "\n",
        "# Add a new column 'Age Category' based on the 'Age' column\n",
        "df['Age Category'] = df['Age'].apply(lambda x: 'Young' if x < 30 else 'Middle-aged')\n",
        "\n",
        "print(df)\n"
      ],
      "metadata": {
        "colab": {
          "base_uri": "https://localhost:8080/"
        },
        "id": "GByXlifU9W9T",
        "outputId": "3482a039-5ef2-4a52-f6ca-3498af781d5a"
      },
      "execution_count": 9,
      "outputs": [
        {
          "output_type": "stream",
          "name": "stdout",
          "text": [
            "     Name  Age Age Category\n",
            "0   Bijay   25        Young\n",
            "1  Pankaj   30  Middle-aged\n",
            "2   Pawan   35  Middle-aged\n",
            "3   Navin   40  Middle-aged\n"
          ]
        }
      ]
    },
    {
      "cell_type": "markdown",
      "source": [
        "**7. A Write a program to perform element-wise multiplication of two NumPy arrays .**\n",
        "\n",
        "**Ans:**"
      ],
      "metadata": {
        "id": "IeQCSG9g9w5U"
      }
    },
    {
      "cell_type": "code",
      "source": [
        "import numpy as np\n",
        "array1 = np.array([1, 5, 3, 8, 9])\n",
        "array2 = np.array([5, 4, 3, 2, 7])\n",
        "\n",
        "result = np.multiply(array1, array2)\n",
        "\n",
        "print(\"Array 1:\", array1)\n",
        "print(\"Array 2:\", array2)\n",
        "print(\"Result of element-wise multiplication:\", result)\n"
      ],
      "metadata": {
        "colab": {
          "base_uri": "https://localhost:8080/"
        },
        "id": "kmiK1Pd6-E_6",
        "outputId": "d40a3691-3d74-400e-91e5-61dd2f400c3c"
      },
      "execution_count": 11,
      "outputs": [
        {
          "output_type": "stream",
          "name": "stdout",
          "text": [
            "Array 1: [1 5 3 8 9]\n",
            "Array 2: [5 4 3 2 7]\n",
            "Result of element-wise multiplication: [ 5 20  9 16 63]\n"
          ]
        }
      ]
    },
    {
      "cell_type": "markdown",
      "source": [
        "**8. Create a line plot with multiple lines using Matplotlib .**\n",
        "\n",
        "**Ans:**"
      ],
      "metadata": {
        "id": "NnOwqGoA-T9n"
      }
    },
    {
      "cell_type": "code",
      "source": [
        "import matplotlib.pyplot as plt\n",
        "x = [11, 15, 4, 9, 8]\n",
        "y1 = [10, 15, 13, 17, 16]\n",
        "y2 = [7, 10, 12,8,19]\n",
        "\n",
        "plt.plot(x, y1, label='Line 1', marker='o')\n",
        "plt.plot(x, y2, label='Line 2', marker='s')\n",
        "\n",
        "plt.title('Line Plot with Multiple Lines')\n",
        "plt.xlabel('X-axis')\n",
        "plt.ylabel('Y-axis')\n",
        "\n",
        "plt.legend()\n",
        "\n",
        "plt.show()\n"
      ],
      "metadata": {
        "colab": {
          "base_uri": "https://localhost:8080/",
          "height": 480
        },
        "id": "TutzZgfa-rGh",
        "outputId": "0155b4de-94d4-4c3b-b17c-9b23205ab7d3"
      },
      "execution_count": 12,
      "outputs": [
        {
          "output_type": "display_data",
          "data": {
            "text/plain": [
              "<Figure size 640x480 with 1 Axes>"
            ],
            "image/png": "[encoded data removed]"
          },
          "metadata": {}
        }
      ]
    },
    {
      "cell_type": "markdown",
      "source": [
        "**9. A Generate a Pandas DataFrame and filter rows where a column value is greater than a threshold.**\n",
        "\n",
        "**Ans:**"
      ],
      "metadata": {
        "id": "u2CM6CzQ_AfJ"
      }
    },
    {
      "cell_type": "code",
      "source": [
        "import pandas as pd\n",
        "\n",
        "\n",
        "data = {\n",
        "    'Name': ['Adu', 'Ajay', 'Abhinav'],\n",
        "    'Age': [2, 30, 22]\n",
        "}\n",
        "\n",
        "df = pd.DataFrame(data)\n",
        "\n",
        "threshold = 30\n",
        "\n",
        "filtered_df = df[df['Age'] > threshold]\n",
        "\n",
        "print(\"Original DataFrame:\\n\", df)\n",
        "print(\"\\nFiltered DataFrame (Age > 30):\\n\", filtered_df)\n"
      ],
      "metadata": {
        "colab": {
          "base_uri": "https://localhost:8080/"
        },
        "id": "ZC5R3LvY_MeM",
        "outputId": "b1aa6d3c-0543-4cf7-8c6f-1d810a4e197b"
      },
      "execution_count": 14,
      "outputs": [
        {
          "output_type": "stream",
          "name": "stdout",
          "text": [
            "Original DataFrame:\n",
            "       Name  Age\n",
            "0      Adu    2\n",
            "1     Ajay   30\n",
            "2  Abhinav   22\n",
            "\n",
            "Filtered DataFrame (Age > 30):\n",
            " Empty DataFrame\n",
            "Columns: [Name, Age]\n",
            "Index: []\n"
          ]
        }
      ]
    },
    {
      "cell_type": "markdown",
      "source": [
        "**10. Create a histogram using Seaborn to visualize a distribution.**\n",
        "\n",
        "**Ans:**"
      ],
      "metadata": {
        "id": "NTwOy6SP_lBB"
      }
    },
    {
      "cell_type": "code",
      "source": [
        "import seaborn as sns\n",
        "import matplotlib.pyplot as plt\n",
        "\n",
        "data = [1, 2, 2, 3, 3, 3, 4, 4, 4, 4, 5, 5, 5, 5, 5]\n",
        "\n",
        "sns.histplot(data, kde=True, bins=5)\n",
        "\n",
        "plt.title('Histogram of Sample Data')\n",
        "plt.xlabel('Value')\n",
        "plt.ylabel('Frequency')\n",
        "\n",
        "plt.show()\n"
      ],
      "metadata": {
        "colab": {
          "base_uri": "https://localhost:8080/",
          "height": 480
        },
        "id": "YQ1I-TX-_uj8",
        "outputId": "ac1d7510-e727-48e3-fe03-b2bc2b3f1f24"
      },
      "execution_count": 15,
      "outputs": [
        {
          "output_type": "display_data",
          "data": {
            "text/plain": [
              "<Figure size 640x480 with 1 Axes>"
            ],
            "image/png": "[encoded data removed]"
          },
          "metadata": {}
        }
      ]
    },
    {
      "cell_type": "markdown",
      "source": [
        "**11. Perform matrix multiplication using NumPy.**\n",
        "\n",
        "**Ans:**"
      ],
      "metadata": {
        "id": "5cO66vqSAGl-"
      }
    },
    {
      "cell_type": "code",
      "source": [
        "import numpy as np\n",
        "\n",
        "A = np.array([[1, 2], [5, 4]])\n",
        "B = np.array([[5, 6], [3, 4]])\n",
        "\n",
        "result = np.dot(A, B)\n",
        "\n",
        "print(result)\n"
      ],
      "metadata": {
        "colab": {
          "base_uri": "https://localhost:8080/"
        },
        "id": "x53Mff99AWOz",
        "outputId": "7fbaa4f0-f009-40c3-c6d8-e5234f736334"
      },
      "execution_count": 16,
      "outputs": [
        {
          "output_type": "stream",
          "name": "stdout",
          "text": [
            "[[11 14]\n",
            " [37 46]]\n"
          ]
        }
      ]
    },
    {
      "cell_type": "markdown",
      "source": [
        "**12. Use Pandas to load a CSV file and display its first 5 rows.**\n",
        "\n",
        "**Ans:**"
      ],
      "metadata": {
        "id": "1GmnXlUlAjZ1"
      }
    },
    {
      "cell_type": "code",
      "source": [
        "# creating a csv file\n",
        "data= [ ['Name','Advik'],['Age','10'],['Class','5th'],['City','Kanpur'],['Nationality','Indian']]\n",
        "\n",
        "import csv\n",
        "with open ('creating_csv.csv','w') as f:\n",
        "  w= csv.writer(f)\n",
        "  for i in data:\n",
        "    w.writerow(i)\n",
        "\n",
        "# loading of csv file\n",
        "import pandas as pd\n",
        "\n",
        "df = pd.read_csv('creating_csv.csv')\n",
        "\n",
        "print(df.head())\n"
      ],
      "metadata": {
        "colab": {
          "base_uri": "https://localhost:8080/"
        },
        "id": "pQZS0kEAA988",
        "outputId": "621162f0-15a6-4b3e-82cd-a9c7e365b2ad"
      },
      "execution_count": 27,
      "outputs": [
        {
          "output_type": "stream",
          "name": "stdout",
          "text": [
            "          Name   Advik\n",
            "0          Age      10\n",
            "1        Class     5th\n",
            "2         City  Kanpur\n",
            "3  Nationality  Indian\n"
          ]
        }
      ]
    },
    {
      "cell_type": "markdown",
      "source": [
        "**13. Create a 3D scatter plot using Plotly.**\n",
        "\n",
        "**Ans:**"
      ],
      "metadata": {
        "id": "2JPZPzLjFwT3"
      }
    },
    {
      "cell_type": "code",
      "source": [
        "import plotly.graph_objects as go\n",
        "\n",
        "x = [9, 11, 6, 3, 1]\n",
        "y = [10, 15, 15, 12, 16]\n",
        "z = [5, 8, 6, 9, 7]\n",
        "\n",
        "fig = go.Figure(data=[go.Scatter3d(x=x, y=y, z=z, mode='markers', marker=dict(size=8, color='blue'))])\n",
        "\n",
        "fig.update_layout(\n",
        "    title='3D Scatter Plot',\n",
        "    scene=dict(\n",
        "        xaxis_title='X-axis',\n",
        "        yaxis_title='Y-axis',\n",
        "        zaxis_title='Z-axis'\n",
        "    )\n",
        ")\n",
        "\n",
        "fig.show()\n"
      ],
      "metadata": {
        "colab": {
          "base_uri": "https://localhost:8080/",
          "height": 542
        },
        "id": "zVt1C18LGL4i",
        "outputId": "4cd475c0-ae7f-4091-90b8-c3d7ff2dfb8d"
      },
      "execution_count": 28,
      "outputs": [
        {
          "output_type": "display_data",
          "data": {
            "text/html": [
              "<html>\n",
              "<head><meta charset=\"utf-8\" /></head>\n",
              "<body>\n",
              "    <div>            <script src=\"https://cdnjs.cloudflare.com/ajax/libs/mathjax/2.7.5/MathJax.js?config=TeX-AMS-MML_SVG\"></script><script type=\"text/javascript\">if (window.MathJax && window.MathJax.Hub && window.MathJax.Hub.Config) {window.MathJax.Hub.Config({SVG: {font: \"STIX-Web\"}});}</script>                <script type=\"text/javascript\">window.PlotlyConfig = {MathJaxConfig: 'local'};</script>\n",
              "        <script charset=\"utf-8\" src=\"https://cdn.plot.ly/plotly-2.35.2.min.js\"></script>                <div id=\"1dcc4549-c9c9-4a06-921f-7a21e58b5f45\" class=\"plotly-graph-div\" style=\"height:525px; width:100%;\"></div>            <script type=\"text/javascript\">                                    window.PLOTLYENV=window.PLOTLYENV || {};                                    if (document.getElementById(\"1dcc4549-c9c9-4a06-921f-7a21e58b5f45\")) {                    Plotly.newPlot(                        \"1dcc4549-c9c9-4a06-921f-7a21e58b5f45\",                        [{\"marker\":{\"color\":\"blue\",\"size\":8},\"mode\":\"markers\",\"x\":[9,11,6,3,1],\"y\":[10,15,15,12,16],\"z\":[5,8,6,9,7],\"type\":\"scatter3d\"}],                        {\"template\":{\"data\":{\"histogram2dcontour\":[{\"type\":\"histogram2dcontour\",\"colorbar\":{\"outlinewidth\":0,\"ticks\":\"\"},\"colorscale\":[[0.0,\"#0d0887\"],[0.1111111111111111,\"#46039f\"],[0.2222222222222222,\"#7201a8\"],[0.3333333333333333,\"#9c179e\"],[0.4444444444444444,\"#bd3786\"],[0.5555555555555556,\"#d8576b\"],[0.6666666666666666,\"#ed7953\"],[0.7777777777777778,\"#fb9f3a\"],[0.8888888888888888,\"#fdca26\"],[1.0,\"#f0f921\"]]}],\"choropleth\":[{\"type\":\"choropleth\",\"colorbar\":{\"outlinewidth\":0,\"ticks\":\"\"}}],\"histogram2d\":[{\"type\":\"histogram2d\",\"colorbar\":{\"outlinewidth\":0,\"ticks\":\"\"},\"colorscale\":[[0.0,\"#0d0887\"],[0.1111111111111111,\"#46039f\"],[0.2222222222222222,\"#7201a8\"],[0.3333333333333333,\"#9c179e\"],[0.4444444444444444,\"#bd3786\"],[0.5555555555555556,\"#d8576b\"],[0.6666666666666666,\"#ed7953\"],[0.7777777777777778,\"#fb9f3a\"],[0.8888888888888888,\"#fdca26\"],[1.0,\"#f0f921\"]]}],\"heatmap\":[{\"type\":\"heatmap\",\"colorbar\":{\"outlinewidth\":0,\"ticks\":\"\"},\"colorscale\":[[0.0,\"#0d0887\"],[0.1111111111111111,\"#46039f\"],[0.2222222222222222,\"#7201a8\"],[0.3333333333333333,\"#9c179e\"],[0.4444444444444444,\"#bd3786\"],[0.5555555555555556,\"#d8576b\"],[0.6666666666666666,\"#ed7953\"],[0.7777777777777778,\"#fb9f3a\"],[0.8888888888888888,\"#fdca26\"],[1.0,\"#f0f921\"]]}],\"heatmapgl\":[{\"type\":\"heatmapgl\",\"colorbar\":{\"outlinewidth\":0,\"ticks\":\"\"},\"colorscale\":[[0.0,\"#0d0887\"],[0.1111111111111111,\"#46039f\"],[0.2222222222222222,\"#7201a8\"],[0.3333333333333333,\"#9c179e\"],[0.4444444444444444,\"#bd3786\"],[0.5555555555555556,\"#d8576b\"],[0.6666666666666666,\"#ed7953\"],[0.7777777777777778,\"#fb9f3a\"],[0.8888888888888888,\"#fdca26\"],[1.0,\"#f0f921\"]]}],\"contourcarpet\":[{\"type\":\"contourcarpet\",\"colorbar\":{\"outlinewidth\":0,\"ticks\":\"\"}}],\"contour\":[{\"type\":\"contour\",\"colorbar\":{\"outlinewidth\":0,\"ticks\":\"\"},\"colorscale\":[[0.0,\"#0d0887\"],[0.1111111111111111,\"#46039f\"],[0.2222222222222222,\"#7201a8\"],[0.3333333333333333,\"#9c179e\"],[0.4444444444444444,\"#bd3786\"],[0.5555555555555556,\"#d8576b\"],[0.6666666666666666,\"#ed7953\"],[0.7777777777777778,\"#fb9f3a\"],[0.8888888888888888,\"#fdca26\"],[1.0,\"#f0f921\"]]}],\"surface\":[{\"type\":\"surface\",\"colorbar\":{\"outlinewidth\":0,\"ticks\":\"\"},\"colorscale\":[[0.0,\"#0d0887\"],[0.1111111111111111,\"#46039f\"],[0.2222222222222222,\"#7201a8\"],[0.3333333333333333,\"#9c179e\"],[0.4444444444444444,\"#bd3786\"],[0.5555555555555556,\"#d8576b\"],[0.6666666666666666,\"#ed7953\"],[0.7777777777777778,\"#fb9f3a\"],[0.8888888888888888,\"#fdca26\"],[1.0,\"#f0f921\"]]}],\"mesh3d\":[{\"type\":\"mesh3d\",\"colorbar\":{\"outlinewidth\":0,\"ticks\":\"\"}}],\"scatter\":[{\"fillpattern\":{\"fillmode\":\"overlay\",\"size\":10,\"solidity\":0.2},\"type\":\"scatter\"}],\"parcoords\":[{\"type\":\"parcoords\",\"line\":{\"colorbar\":{\"outlinewidth\":0,\"ticks\":\"\"}}}],\"scatterpolargl\":[{\"type\":\"scatterpolargl\",\"marker\":{\"colorbar\":{\"outlinewidth\":0,\"ticks\":\"\"}}}],\"bar\":[{\"error_x\":{\"color\":\"#2a3f5f\"},\"error_y\":{\"color\":\"#2a3f5f\"},\"marker\":{\"line\":{\"color\":\"#E5ECF6\",\"width\":0.5},\"pattern\":{\"fillmode\":\"overlay\",\"size\":10,\"solidity\":0.2}},\"type\":\"bar\"}],\"scattergeo\":[{\"type\":\"scattergeo\",\"marker\":{\"colorbar\":{\"outlinewidth\":0,\"ticks\":\"\"}}}],\"scatterpolar\":[{\"type\":\"scatterpolar\",\"marker\":{\"colorbar\":{\"outlinewidth\":0,\"ticks\":\"\"}}}],\"histogram\":[{\"marker\":{\"pattern\":{\"fillmode\":\"overlay\",\"size\":10,\"solidity\":0.2}},\"type\":\"histogram\"}],\"scattergl\":[{\"type\":\"scattergl\",\"marker\":{\"colorbar\":{\"outlinewidth\":0,\"ticks\":\"\"}}}],\"scatter3d\":[{\"type\":\"scatter3d\",\"line\":{\"colorbar\":{\"outlinewidth\":0,\"ticks\":\"\"}},\"marker\":{\"colorbar\":{\"outlinewidth\":0,\"ticks\":\"\"}}}],\"scattermapbox\":[{\"type\":\"scattermapbox\",\"marker\":{\"colorbar\":{\"outlinewidth\":0,\"ticks\":\"\"}}}],\"scatterternary\":[{\"type\":\"scatterternary\",\"marker\":{\"colorbar\":{\"outlinewidth\":0,\"ticks\":\"\"}}}],\"scattercarpet\":[{\"type\":\"scattercarpet\",\"marker\":{\"colorbar\":{\"outlinewidth\":0,\"ticks\":\"\"}}}],\"carpet\":[{\"aaxis\":{\"endlinecolor\":\"#2a3f5f\",\"gridcolor\":\"white\",\"linecolor\":\"white\",\"minorgridcolor\":\"white\",\"startlinecolor\":\"#2a3f5f\"},\"baxis\":{\"endlinecolor\":\"#2a3f5f\",\"gridcolor\":\"white\",\"linecolor\":\"white\",\"minorgridcolor\":\"white\",\"startlinecolor\":\"#2a3f5f\"},\"type\":\"carpet\"}],\"table\":[{\"cells\":{\"fill\":{\"color\":\"#EBF0F8\"},\"line\":{\"color\":\"white\"}},\"header\":{\"fill\":{\"color\":\"#C8D4E3\"},\"line\":{\"color\":\"white\"}},\"type\":\"table\"}],\"barpolar\":[{\"marker\":{\"line\":{\"color\":\"#E5ECF6\",\"width\":0.5},\"pattern\":{\"fillmode\":\"overlay\",\"size\":10,\"solidity\":0.2}},\"type\":\"barpolar\"}],\"pie\":[{\"automargin\":true,\"type\":\"pie\"}]},\"layout\":{\"autotypenumbers\":\"strict\",\"colorway\":[\"#636efa\",\"#EF553B\",\"#00cc96\",\"#ab63fa\",\"#FFA15A\",\"#19d3f3\",\"#FF6692\",\"#B6E880\",\"#FF97FF\",\"#FECB52\"],\"font\":{\"color\":\"#2a3f5f\"},\"hovermode\":\"closest\",\"hoverlabel\":{\"align\":\"left\"},\"paper_bgcolor\":\"white\",\"plot_bgcolor\":\"#E5ECF6\",\"polar\":{\"bgcolor\":\"#E5ECF6\",\"angularaxis\":{\"gridcolor\":\"white\",\"linecolor\":\"white\",\"ticks\":\"\"},\"radialaxis\":{\"gridcolor\":\"white\",\"linecolor\":\"white\",\"ticks\":\"\"}},\"ternary\":{\"bgcolor\":\"#E5ECF6\",\"aaxis\":{\"gridcolor\":\"white\",\"linecolor\":\"white\",\"ticks\":\"\"},\"baxis\":{\"gridcolor\":\"white\",\"linecolor\":\"white\",\"ticks\":\"\"},\"caxis\":{\"gridcolor\":\"white\",\"linecolor\":\"white\",\"ticks\":\"\"}},\"coloraxis\":{\"colorbar\":{\"outlinewidth\":0,\"ticks\":\"\"}},\"colorscale\":{\"sequential\":[[0.0,\"#0d0887\"],[0.1111111111111111,\"#46039f\"],[0.2222222222222222,\"#7201a8\"],[0.3333333333333333,\"#9c179e\"],[0.4444444444444444,\"#bd3786\"],[0.5555555555555556,\"#d8576b\"],[0.6666666666666666,\"#ed7953\"],[0.7777777777777778,\"#fb9f3a\"],[0.8888888888888888,\"#fdca26\"],[1.0,\"#f0f921\"]],\"sequentialminus\":[[0.0,\"#0d0887\"],[0.1111111111111111,\"#46039f\"],[0.2222222222222222,\"#7201a8\"],[0.3333333333333333,\"#9c179e\"],[0.4444444444444444,\"#bd3786\"],[0.5555555555555556,\"#d8576b\"],[0.6666666666666666,\"#ed7953\"],[0.7777777777777778,\"#fb9f3a\"],[0.8888888888888888,\"#fdca26\"],[1.0,\"#f0f921\"]],\"diverging\":[[0,\"#8e0152\"],[0.1,\"#c51b7d\"],[0.2,\"#de77ae\"],[0.3,\"#f1b6da\"],[0.4,\"#fde0ef\"],[0.5,\"#f7f7f7\"],[0.6,\"#e6f5d0\"],[0.7,\"#b8e186\"],[0.8,\"#7fbc41\"],[0.9,\"#4d9221\"],[1,\"#276419\"]]},\"xaxis\":{\"gridcolor\":\"white\",\"linecolor\":\"white\",\"ticks\":\"\",\"title\":{\"standoff\":15},\"zerolinecolor\":\"white\",\"automargin\":true,\"zerolinewidth\":2},\"yaxis\":{\"gridcolor\":\"white\",\"linecolor\":\"white\",\"ticks\":\"\",\"title\":{\"standoff\":15},\"zerolinecolor\":\"white\",\"automargin\":true,\"zerolinewidth\":2},\"scene\":{\"xaxis\":{\"backgroundcolor\":\"#E5ECF6\",\"gridcolor\":\"white\",\"linecolor\":\"white\",\"showbackground\":true,\"ticks\":\"\",\"zerolinecolor\":\"white\",\"gridwidth\":2},\"yaxis\":{\"backgroundcolor\":\"#E5ECF6\",\"gridcolor\":\"white\",\"linecolor\":\"white\",\"showbackground\":true,\"ticks\":\"\",\"zerolinecolor\":\"white\",\"gridwidth\":2},\"zaxis\":{\"backgroundcolor\":\"#E5ECF6\",\"gridcolor\":\"white\",\"linecolor\":\"white\",\"showbackground\":true,\"ticks\":\"\",\"zerolinecolor\":\"white\",\"gridwidth\":2}},\"shapedefaults\":{\"line\":{\"color\":\"#2a3f5f\"}},\"annotationdefaults\":{\"arrowcolor\":\"#2a3f5f\",\"arrowhead\":0,\"arrowwidth\":1},\"geo\":{\"bgcolor\":\"white\",\"landcolor\":\"#E5ECF6\",\"subunitcolor\":\"white\",\"showland\":true,\"showlakes\":true,\"lakecolor\":\"white\"},\"title\":{\"x\":0.05},\"mapbox\":{\"style\":\"light\"}}},\"title\":{\"text\":\"3D Scatter Plot\"},\"scene\":{\"xaxis\":{\"title\":{\"text\":\"X-axis\"}},\"yaxis\":{\"title\":{\"text\":\"Y-axis\"}},\"zaxis\":{\"title\":{\"text\":\"Z-axis\"}}}},                        {\"responsive\": true}                    ).then(function(){\n",
              "                            \n",
              "var gd = document.getElementById('1dcc4549-c9c9-4a06-921f-7a21e58b5f45');\n",
              "var x = new MutationObserver(function (mutations, observer) {{\n",
              "        var display = window.getComputedStyle(gd).display;\n",
              "        if (!display || display === 'none') {{\n",
              "            console.log([gd, 'removed!']);\n",
              "            Plotly.purge(gd);\n",
              "            observer.disconnect();\n",
              "        }}\n",
              "}});\n",
              "\n",
              "// Listen for the removal of the full notebook cells\n",
              "var notebookContainer = gd.closest('#notebook-container');\n",
              "if (notebookContainer) {{\n",
              "    x.observe(notebookContainer, {childList: true});\n",
              "}}\n",
              "\n",
              "// Listen for the clearing of the current output cell\n",
              "var outputEl = gd.closest('.output');\n",
              "if (outputEl) {{\n",
              "    x.observe(outputEl, {childList: true});\n",
              "}}\n",
              "\n",
              "                        })                };                            </script>        </div>\n",
              "</body>\n",
              "</html>"
            ]
          },
          "metadata": {}
        }
      ]
    }
  ]
}